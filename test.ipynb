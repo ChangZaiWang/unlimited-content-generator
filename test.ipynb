{
 "cells": [
  {
   "cell_type": "markdown",
   "metadata": {},
   "source": [
    "# Import Packages"
   ]
  },
  {
   "cell_type": "code",
   "execution_count": null,
   "metadata": {},
   "outputs": [],
   "source": [
    "import os\n",
    "import re\n",
    "import requests\n",
    "\n",
    "import openai\n",
    "from openai import OpenAI\n",
    "import yt_dlp\n",
    "from pydub import AudioSegment\n",
    "\n",
    "from moviepy.editor import *\n",
    "from moviepy.video.io.VideoFileClip import VideoFileClip\n",
    "import moviepy.video.fx.crop as crop_vid"
   ]
  },
  {
   "cell_type": "markdown",
   "metadata": {},
   "source": [
    "# Set Up Enviroment Variables"
   ]
  },
  {
   "cell_type": "code",
   "execution_count": null,
   "metadata": {},
   "outputs": [],
   "source": [
    "def check_directory(path):\n",
    "    if not os.path.exists(path):\n",
    "        os.makedirs(path)\n",
    "        print(f\"{path} created successfully\")"
   ]
  },
  {
   "cell_type": "code",
   "execution_count": null,
   "metadata": {},
   "outputs": [],
   "source": [
    "client = OpenAI()\n",
    "VIDEO_PATH = \"./video/\"\n",
    "AUDIO_PATH = \"./audio/\"\n",
    "SERMON_PATH = \"./sermon/\"\n",
    "SOCIAL_POST_PATH = \"./socialpost/\"\n",
    "SUBTITLE_PATH = \"./subtitle/\"\n",
    "SHORTS_PATH = \"./shorts/\"\n",
    "IMAGE_PATH = \"./image/\"\n",
    "\n",
    "check_directory(VIDEO_PATH)\n",
    "check_directory(AUDIO_PATH)\n",
    "check_directory(SERMON_PATH)\n",
    "check_directory(SOCIAL_POST_PATH)\n",
    "check_directory(SUBTITLE_PATH)\n",
    "check_directory(SHORTS_PATH)\n",
    "check_directory(IMAGE_PATH)"
   ]
  },
  {
   "cell_type": "markdown",
   "metadata": {},
   "source": [
    "# Function Definition"
   ]
  },
  {
   "cell_type": "code",
   "execution_count": null,
   "metadata": {},
   "outputs": [],
   "source": [
    "def download_video(URL):\n",
    "    try:\n",
    "        # get video title\n",
    "        with yt_dlp.YoutubeDL() as ydl:\n",
    "            info = ydl.extract_info(URL, download=False)\n",
    "\n",
    "        title = info[\"title\"]\n",
    "        duration = info.get(\"duration\", 0)  # 使用 get() 避免當無法獲取 duration 時的 KeyError\n",
    "\n",
    "        if duration > 7200:\n",
    "            return \"Sorry! Your video is too long to be processed.\"\n",
    "\n",
    "        # set download options\n",
    "        ydl_opts = {\n",
    "            \"format\": \"bestvideo+bestaudio/best\",\n",
    "            \"outtmpl\": f\"{VIDEO_PATH}/{title}.%(ext)s\"\n",
    "        }\n",
    "\n",
    "        # download video\n",
    "        with yt_dlp.YoutubeDL(ydl_opts) as ydl:\n",
    "            ydl.download([URL])  # 將 URL 放入一個列表中\n",
    "\n",
    "        # rename ext. to mp4\n",
    "        for f in os.listdir(VIDEO_PATH):\n",
    "            if f.startswith(title):\n",
    "                os.rename(f\"{VIDEO_PATH}/{f}\", f\"{VIDEO_PATH}/{title}.mp4\")\n",
    "                break\n",
    "\n",
    "        return title + \".mp4\"\n",
    "\n",
    "    except yt_dlp.DownloadError as e:\n",
    "        return f\"Error downloading video: {e}\"\n",
    "\n",
    "    except Exception as e:\n",
    "        return f\"An unexpected error occurred: {e}\""
   ]
  },
  {
   "cell_type": "code",
   "execution_count": null,
   "metadata": {},
   "outputs": [],
   "source": [
    "def extract_audio(video_file):\n",
    "    try:\n",
    "        if not os.path.exists(VIDEO_PATH + video_file):\n",
    "            return f\"Error: Video file {video_file} not found.\"\n",
    "        \n",
    "        video = VideoFileClip(VIDEO_PATH + video_file)\n",
    "        audio = video.audio\n",
    "        audio_file = AUDIO_PATH + video_file.replace(\"mp4\", \"mp3\")\n",
    "        audio.write_audiofile(audio_file)\n",
    "    \n",
    "        return video_file.replace(\"mp4\", \"mp3\")\n",
    "    \n",
    "    except Exception as e:\n",
    "        return f\"An unexpected error occurred: {e}\""
   ]
  },
  {
   "cell_type": "code",
   "execution_count": null,
   "metadata": {},
   "outputs": [],
   "source": [
    "def compress_audio(audio_file):\n",
    "    try: \n",
    "        if not os.path.exists(AUDIO_PATH + audio_file):\n",
    "            return f\"Error: Audio file {audio_file} not found.\"\n",
    "        \n",
    "        file_size = os.path.getsize(AUDIO_PATH + audio_file)\n",
    "        if file_size <= 25000000:\n",
    "            return audio_file\n",
    "        \n",
    "        audio = AudioSegment.from_file(AUDIO_PATH + audio_file)\n",
    "\n",
    "        # Set output parameters\n",
    "        channels = 1  # mono\n",
    "        frame_rate = 16000  # sample rate\n",
    "        bit_rate = \"24k\"  # 位元率\n",
    "\n",
    "        # Audio transcode and save\n",
    "        output_audio = audio.set_channels(channels).set_frame_rate(frame_rate)\n",
    "        output_file = \"compressed_\" + audio_file\n",
    "        output_audio.export(AUDIO_PATH + output_file, format=\"mp3\", bitrate=bit_rate)\n",
    "\n",
    "        # Check the size of the compressed \n",
    "        compressed_file_size = os.path.getsize(AUDIO_PATH + output_file)\n",
    "        if compressed_file_size > 25000000:\n",
    "            print(\"File too big..., compress again...\")\n",
    "            bit_rate = \"16k\"  # Lower bitrate for a second compression\n",
    "            output_audio.export(os.path.join(AUDIO_PATH, output_file), format=\"mp3\", bitrate=bit_rate)\n",
    "\n",
    "        return output_file\n",
    "    \n",
    "    except Exception as e:\n",
    "        return f\"An unexpected error occurred: {e}\""
   ]
  },
  {
   "cell_type": "code",
   "execution_count": null,
   "metadata": {},
   "outputs": [],
   "source": [
    "def get_transcript(audio_file):\n",
    "    try:\n",
    "        if not os.path.exists(AUDIO_PATH + audio_file):\n",
    "            return f\"Audio file {audio_file} not found.\"\n",
    "        \n",
    "        audio = open(AUDIO_PATH + audio_file, \"rb\")\n",
    "        transcript = client.audio.transcriptions.create(\n",
    "            model=\"whisper-1\", \n",
    "            file=audio, \n",
    "            language=\"zh\",\n",
    "            response_format=\"srt\"\n",
    "        )\n",
    "        transcript = transcript.replace(\" \", \"，\")\n",
    "            \n",
    "        return transcript\n",
    "    \n",
    "    except openai.OpenAIError as e:\n",
    "        return f\"OpenAI API error: {e}\"\n",
    "    \n",
    "    except Exception as e:\n",
    "        return f\"An unexpected error occurred: {e}\"\n",
    "    "
   ]
  },
  {
   "cell_type": "code",
   "execution_count": null,
   "metadata": {},
   "outputs": [],
   "source": [
    "def save_file(input, path, filename):\n",
    "    with open(path + filename, \"w\") as file:\n",
    "        file.write(input)"
   ]
  },
  {
   "cell_type": "code",
   "execution_count": null,
   "metadata": {},
   "outputs": [],
   "source": [
    "def extract_text_from_srt(srt_string):\n",
    "    pattern = re.compile(r'\\d+\\n\\d{2}:\\d{2}:\\d{2},\\d{3}，-->，\\d{2}:\\d{2}:\\d{2},\\d{3}\\n(.*?)\\n\\n', re.DOTALL)\n",
    "    matches = pattern.findall(srt_string)\n",
    "\n",
    "    cleaned_matches = [match.strip() for match in matches]\n",
    "\n",
    "    result = ' '.join(cleaned_matches)\n",
    "\n",
    "    return result"
   ]
  },
  {
   "cell_type": "code",
   "execution_count": null,
   "metadata": {},
   "outputs": [],
   "source": [
    "def generate_sermon(text):\n",
    "    try:\n",
    "        response = client.chat.completions.create(\n",
    "            model = \"gpt-4-1106-preview\",\n",
    "            messages = [\n",
    "            {\"role\": \"system\", \"content\": \"你是一位牧師，下面將提供逐字稿，請加上適當的標點符號，整理成有結構且易讀的內容，並且為產出的內容適當的命名，同時為每一段下一個小標題。\"},\n",
    "            {\"role\": \"user\", \"content\": text}\n",
    "            ]\n",
    "        )\n",
    "\n",
    "        return response.choices[0].message.content\n",
    "    \n",
    "    except openai.OpenAIError as e:\n",
    "        return f\"OpenAI API error: {e}\"\n",
    "    \n",
    "    except Exception as e:\n",
    "        return f\"An unexpected error occurred: {e}\""
   ]
  },
  {
   "cell_type": "code",
   "execution_count": null,
   "metadata": {},
   "outputs": [],
   "source": [
    "def generate_social_post(text, style):\n",
    "    try:\n",
    "        response = client.chat.completions.create(\n",
    "            model = \"gpt-4-1106-preview\",\n",
    "            messages = [\n",
    "            {\"role\": \"system\", \"content\": f\"你是一個厲害的社群媒體經營者，下面將提供牧師的講章，請產生五篇社群貼文，並加上主題標籤。風格：{style}\"},\n",
    "            {\"role\": \"user\", \"content\": text}\n",
    "            ]\n",
    "        )\n",
    "\n",
    "        return response.choices[0].message.content\n",
    "    \n",
    "    except openai.OpenAIError as e:\n",
    "        return f\"OpenAI API error: {e}\"\n",
    "    \n",
    "    except Exception as e:\n",
    "        return f\"An unexpected error occurred: {e}\""
   ]
  },
  {
   "cell_type": "code",
   "execution_count": null,
   "metadata": {},
   "outputs": [],
   "source": [
    "def generate_clip(text):\n",
    "    try:\n",
    "        response = client.chat.completions.create(\n",
    "            model = \"gpt-4-1106-preview\",\n",
    "            messages = [\n",
    "            {\"role\": \"system\", \"content\": \"你是一個厲害的短影音剪輯師，下面將提供一份字幕檔，請根據字幕檔的內容，給予五個你認為可以剪輯成長度為60秒的短影音段落。時間段落指示請依照SRT字幕檔的格式：時間 --> 時間\"},\n",
    "            {\"role\": \"user\", \"content\": text}\n",
    "            ]\n",
    "        )\n",
    "        clips = response.choices[0].message.content\n",
    "\n",
    "        matches = re.findall(r'\\d{2}:\\d{2}:\\d{2},\\d{3} --> \\d{2}:\\d{2}:\\d{2},\\d{3}', clips)\n",
    "        if not matches:\n",
    "            print(\"Clips not found, trying again\")\n",
    "            return generate_clip(text)\n",
    "\n",
    "        return matches\n",
    "    \n",
    "    except openai.OpenAIError as e:\n",
    "        return f\"OpenAI API error: {e}\"\n",
    "    \n",
    "    except Exception as e:\n",
    "        return f\"An unexpected error occurred: {e}\""
   ]
  },
  {
   "cell_type": "code",
   "execution_count": null,
   "metadata": {},
   "outputs": [],
   "source": [
    "def generate_shorts(matches, video_file):\n",
    "    file_num = 1\n",
    "    pattern = re.compile(r'(\\d{2}:\\d{2}:\\d{2},\\d{3})[， ]*-->[， ]*(\\d{2}:\\d{2}:\\d{2},\\d{3})')\n",
    "    for match in matches:\n",
    "        searched = pattern.search(match)\n",
    "        if searched:\n",
    "            start_time, end_time = searched.groups()\n",
    "\n",
    "            sixteen_by_nine_video = VideoFileClip(VIDEO_PATH + video_file).subclip((start_time), (end_time))\n",
    "            \n",
    "            nine_by_sixteen_video = VideoFileClip(VIDEO_PATH + video_file).subclip((start_time), (end_time))\n",
    "            w, h = nine_by_sixteen_video.size\n",
    "            target_ratio = 1080 / 1920\n",
    "            current_ratio = w / h\n",
    "\n",
    "            if current_ratio > target_ratio:\n",
    "                # The video is wider than the desired aspect ratio, crop the width\n",
    "                new_width = int(h * target_ratio)\n",
    "                x_center = w / 2\n",
    "                y_center = h / 2\n",
    "                nine_by_sixteen_video = crop_vid.crop(nine_by_sixteen_video, width=new_width, height=h, x_center=x_center, y_center=y_center)\n",
    "            else:\n",
    "                # The video is taller than the desired aspect ratio, crop the height\n",
    "                new_height = int(w / target_ratio)\n",
    "                x_center = w / 2\n",
    "                y_center = h / 2\n",
    "                nine_by_sixteen_video = crop_vid.crop(nine_by_sixteen_video, width=w, height=new_height, x_center=x_center, y_center=y_center)\n",
    "\n",
    "            \n",
    "            sixteen_by_nine_video.write_videofile(\n",
    "                SHORTS_PATH + f\"original_clip_{file_num}.mp4\", \n",
    "                codec='libx264', \n",
    "                audio_codec='aac', \n",
    "                temp_audiofile='temp-audio.m4a', \n",
    "                remove_temp=True\n",
    "            )\n",
    "            print(f\"Saved file original_clip_{file_num}\")\n",
    "\n",
    "            nine_by_sixteen_video.write_videofile(\n",
    "                SHORTS_PATH + f\"shorts_{file_num}.mp4\", \n",
    "                codec='libx264', \n",
    "                audio_codec='aac', \n",
    "                temp_audiofile='temp-audio.m4a', \n",
    "                remove_temp=True\n",
    "            )\n",
    "            print(f\"Saved file shorts_{file_num}\")\n",
    "            file_num += 1"
   ]
  },
  {
   "cell_type": "code",
   "execution_count": null,
   "metadata": {},
   "outputs": [],
   "source": [
    "def generate_social_post_image(prompt, style):\n",
    "    try:\n",
    "        response = client.images.generate(\n",
    "            model=\"dall-e-3\",\n",
    "            prompt=f\"請針對以下內容，設計適合的社群貼文圖，但不要出現文字。\\n 風格：{style}。\\n\" + prompt,\n",
    "            size=\"1024x1024\",\n",
    "            quality=\"standard\",\n",
    "            n=1\n",
    "        )\n",
    "        image_url = response.data[0].url\n",
    "        print(image_url)\n",
    "\n",
    "        image = requests.get(image_url)\n",
    "        if image.status_code == 200:\n",
    "            with open(IMAGE_PATH + \"image.png\", \"wb\") as f:\n",
    "                f.write(image.content)\n",
    "            print(\"Image downloaded successfully.\")\n",
    "        else:\n",
    "            raise Exception(f\"Failed to download image. Status code: {image.status_code}\")\n",
    "\n",
    "    except openai.OpenAIError as e:\n",
    "        return f\"OpenAI API error: {e}\"\n",
    "\n",
    "    except Exception as e:\n",
    "        return f\"An unexpected error occurred: {e}\""
   ]
  },
  {
   "cell_type": "markdown",
   "metadata": {},
   "source": [
    "# Main"
   ]
  },
  {
   "cell_type": "code",
   "execution_count": null,
   "metadata": {},
   "outputs": [],
   "source": [
    "yt_url = input(\"Please Enter The YouTube URL: \")\n",
    "video_file = download_video(yt_url)"
   ]
  },
  {
   "cell_type": "code",
   "execution_count": null,
   "metadata": {},
   "outputs": [],
   "source": [
    "audio_file = extract_audio(video_file)"
   ]
  },
  {
   "cell_type": "code",
   "execution_count": null,
   "metadata": {},
   "outputs": [],
   "source": [
    "compressed_audio_file = compress_audio(audio_file)"
   ]
  },
  {
   "cell_type": "code",
   "execution_count": null,
   "metadata": {},
   "outputs": [],
   "source": [
    "transcript = get_transcript(compressed_audio_file)\n",
    "save_file(transcript, SUBTITLE_PATH, \"subtitle.srt\")"
   ]
  },
  {
   "cell_type": "code",
   "execution_count": null,
   "metadata": {},
   "outputs": [],
   "source": [
    "srt_text = extract_text_from_srt(transcript)"
   ]
  },
  {
   "cell_type": "code",
   "execution_count": null,
   "metadata": {},
   "outputs": [],
   "source": [
    "sermon = generate_sermon(srt_text)\n",
    "save_file(sermon, SERMON_PATH, \"sermon.txt\")"
   ]
  },
  {
   "cell_type": "code",
   "execution_count": null,
   "metadata": {},
   "outputs": [],
   "source": [
    "social_post_style = input(\"請輸入您想生成的社群貼文風格。例如：有趣、幽默等\")\n",
    "social_post = generate_social_post(sermon, social_post_style)\n",
    "save_file(social_post, SOCIAL_POST_PATH, \"social_post.txt\")"
   ]
  },
  {
   "cell_type": "code",
   "execution_count": null,
   "metadata": {},
   "outputs": [],
   "source": [
    "times = generate_clip(transcript)\n",
    "generate_shorts(times, video_file)"
   ]
  },
  {
   "cell_type": "code",
   "execution_count": null,
   "metadata": {},
   "outputs": [],
   "source": [
    "image_prompt = input(\"請輸入您想生成的圖片內容。\")\n",
    "image_style = input(\"請輸入您想要生成的圖片風格。例如：簡約、卡通等\")\n",
    "generate_social_post_image(image_prompt, image_style)"
   ]
  },
  {
   "cell_type": "code",
   "execution_count": null,
   "metadata": {},
   "outputs": [],
   "source": []
  },
  {
   "cell_type": "code",
   "execution_count": null,
   "metadata": {},
   "outputs": [],
   "source": []
  }
 ],
 "metadata": {
  "kernelspec": {
   "display_name": "base",
   "language": "python",
   "name": "python3"
  },
  "language_info": {
   "codemirror_mode": {
    "name": "ipython",
    "version": 3
   },
   "file_extension": ".py",
   "mimetype": "text/x-python",
   "name": "python",
   "nbconvert_exporter": "python",
   "pygments_lexer": "ipython3",
   "version": "3.9.18"
  }
 },
 "nbformat": 4,
 "nbformat_minor": 2
}
